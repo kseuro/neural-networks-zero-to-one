{
 "cells": [
  {
   "cell_type": "markdown",
   "metadata": {},
   "source": [
    "# nanoGPT Development"
   ]
  },
  {
   "cell_type": "code",
   "execution_count": 11,
   "metadata": {},
   "outputs": [],
   "source": [
    "import torch"
   ]
  },
  {
   "cell_type": "code",
   "execution_count": 1,
   "metadata": {},
   "outputs": [
    {
     "name": "stdout",
     "output_type": "stream",
     "text": [
      "Dataset length: 1115394\n",
      "\n",
      " !$&',-.3:;?ABCDEFGHIJKLMNOPQRSTUVWXYZabcdefghijklmnopqrstuvwxyz\n",
      "Vocab Size: 65\n"
     ]
    }
   ],
   "source": [
    "# Read in data, inspect and convert to mapping\n",
    "\n",
    "with open(\"input.txt\", \"r\") as infile:\n",
    "    text = infile.read()\n",
    "print(f\"Dataset length: {len(text)}\")\n",
    "\n",
    "chars = sorted(list(set(text)))\n",
    "vocab_size = len(chars)\n",
    "print(\"\".join(chars))\n",
    "print(f\"Vocab Size: {vocab_size}\")"
   ]
  },
  {
   "cell_type": "code",
   "execution_count": 6,
   "metadata": {},
   "outputs": [
    {
     "name": "stdout",
     "output_type": "stream",
     "text": [
      "Encode: Hello, there!: [20, 43, 50, 50, 53, 6, 1, 58, 46, 43, 56, 43, 2]\n",
      "Decode: Encode(Hello, there!): Hello, there!\n"
     ]
    }
   ],
   "source": [
    "# Create mapping from characters to integers (character level tokenizer)\n",
    "\n",
    "STOI = {character: integer for integer, character in enumerate(chars)}\n",
    "ITOS = {integer: character for integer, character in enumerate(chars)}\n",
    "\n",
    "\n",
    "def encode(input: str) -> \"list[int]\":\n",
    "    return [STOI[char] for char in input]\n",
    "\n",
    "\n",
    "def decode(input: \"list[int]\") -> str:\n",
    "    return \"\".join([ITOS[integer] for integer in input])\n",
    "\n",
    "\n",
    "message = \"Hello, there!\"\n",
    "print(f\"Encode: {message}: {encode(message)}\")\n",
    "print(f\"Decode: Encode({message}): {decode(encode(message))}\")"
   ]
  },
  {
   "cell_type": "code",
   "execution_count": 10,
   "metadata": {},
   "outputs": [
    {
     "name": "stdout",
     "output_type": "stream",
     "text": [
      "tiktoken Vocab Size: 50257\n",
      "tiktoken Encode: [15496, 11, 612, 0]\n",
      "tiktoken Decode: Hello, there!\n"
     ]
    }
   ],
   "source": [
    "# Compare the above with OpenAI tiktoken encoding (much larger vocabulary)\n",
    "import tiktoken\n",
    "\n",
    "encoding = tiktoken.get_encoding(\"gpt2\")\n",
    "\n",
    "print(f\"tiktoken Vocab Size: {encoding.n_vocab}\")\n",
    "print(f\"tiktoken Encode: {encoding.encode(message)}\")\n",
    "print(f\"tiktoken Decode: {encoding.decode(encoding.encode(message))}\")"
   ]
  },
  {
   "cell_type": "code",
   "execution_count": 12,
   "metadata": {},
   "outputs": [
    {
     "name": "stdout",
     "output_type": "stream",
     "text": [
      "torch.Size([1115394]) torch.int64\n"
     ]
    }
   ],
   "source": [
    "# Convert input data to torch tensor\n",
    "\n",
    "data = torch.tensor(encode(text), dtype=torch.long)\n",
    "print(data.shape, data.dtype)"
   ]
  },
  {
   "cell_type": "code",
   "execution_count": 13,
   "metadata": {},
   "outputs": [
    {
     "name": "stdout",
     "output_type": "stream",
     "text": [
      "Num train examples: torch.Size([1003854])\n",
      "Num test examples: torch.Size([111540])\n"
     ]
    }
   ],
   "source": [
    "# Convert the data into a train/test split\n",
    "n = int(0.9 * len(data))\n",
    "train_data = data[:n]\n",
    "test_data = data[n:]\n",
    "\n",
    "print(f\"Num train examples: {train_data.shape}\")\n",
    "print(f\"Num test examples: {test_data.shape}\")"
   ]
  },
  {
   "cell_type": "code",
   "execution_count": null,
   "metadata": {},
   "outputs": [],
   "source": []
  }
 ],
 "metadata": {
  "kernelspec": {
   "display_name": "magic-env",
   "language": "python",
   "name": "magic-env"
  },
  "language_info": {
   "codemirror_mode": {
    "name": "ipython",
    "version": 3
   },
   "file_extension": ".py",
   "mimetype": "text/x-python",
   "name": "python",
   "nbconvert_exporter": "python",
   "pygments_lexer": "ipython3",
   "version": "3.11.11"
  }
 },
 "nbformat": 4,
 "nbformat_minor": 2
}
