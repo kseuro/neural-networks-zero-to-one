{
 "cells": [
  {
   "cell_type": "markdown",
   "metadata": {},
   "source": [
    "# nanoGPT Development"
   ]
  },
  {
   "cell_type": "code",
   "execution_count": 5,
   "metadata": {},
   "outputs": [],
   "source": [
    "import torch\n",
    "import torch.nn as nn\n",
    "from torch.nn import functional as F"
   ]
  },
  {
   "cell_type": "code",
   "execution_count": 2,
   "metadata": {},
   "outputs": [
    {
     "name": "stdout",
     "output_type": "stream",
     "text": [
      "Dataset length: 1115394\n",
      "\n",
      " !$&',-.3:;?ABCDEFGHIJKLMNOPQRSTUVWXYZabcdefghijklmnopqrstuvwxyz\n",
      "Vocab Size: 65\n"
     ]
    }
   ],
   "source": [
    "# Read in data, inspect and convert to mapping\n",
    "\n",
    "with open(\"input.txt\", \"r\") as infile:\n",
    "    text = infile.read()\n",
    "print(f\"Dataset length: {len(text)}\")\n",
    "\n",
    "chars = sorted(list(set(text)))\n",
    "vocab_size = len(chars)\n",
    "print(\"\".join(chars))\n",
    "print(f\"Vocab Size: {vocab_size}\")"
   ]
  },
  {
   "cell_type": "markdown",
   "metadata": {},
   "source": [
    "# Simple Bigram Model"
   ]
  },
  {
   "cell_type": "code",
   "execution_count": 3,
   "metadata": {},
   "outputs": [
    {
     "name": "stdout",
     "output_type": "stream",
     "text": [
      "Encode: Hello, there!: [20, 43, 50, 50, 53, 6, 1, 58, 46, 43, 56, 43, 2]\n",
      "Decode: Encode(Hello, there!): Hello, there!\n"
     ]
    }
   ],
   "source": [
    "# Create mapping from characters to integers (character level tokenizer)\n",
    "\n",
    "STOI = {character: integer for integer, character in enumerate(chars)}\n",
    "ITOS = {integer: character for integer, character in enumerate(chars)}\n",
    "\n",
    "\n",
    "def encode(input_: str) -> \"list[int]\":\n",
    "    return [STOI[char] for char in input_]\n",
    "\n",
    "\n",
    "def decode(input_: \"list[int]\") -> str:\n",
    "    return \"\".join([ITOS[integer] for integer in input_])\n",
    "\n",
    "\n",
    "message = \"Hello, there!\"\n",
    "print(f\"Encode: {message}: {encode(message)}\")\n",
    "print(f\"Decode: Encode({message}): {decode(encode(message))}\")"
   ]
  },
  {
   "cell_type": "code",
   "execution_count": 4,
   "metadata": {},
   "outputs": [
    {
     "name": "stdout",
     "output_type": "stream",
     "text": [
      "tiktoken Vocab Size: 50257\n",
      "tiktoken Encode: [15496, 11, 612, 0]\n",
      "tiktoken Decode: Hello, there!\n"
     ]
    }
   ],
   "source": [
    "# Compare the above with OpenAI tiktoken encoding (much larger vocabulary)\n",
    "import tiktoken\n",
    "\n",
    "encoding = tiktoken.get_encoding(\"gpt2\")\n",
    "\n",
    "print(f\"tiktoken Vocab Size: {encoding.n_vocab}\")\n",
    "print(f\"tiktoken Encode: {encoding.encode(message)}\")\n",
    "print(f\"tiktoken Decode: {encoding.decode(encoding.encode(message))}\")"
   ]
  },
  {
   "cell_type": "code",
   "execution_count": 5,
   "metadata": {},
   "outputs": [
    {
     "name": "stdout",
     "output_type": "stream",
     "text": [
      "torch.Size([1115394]) torch.int64\n"
     ]
    }
   ],
   "source": [
    "# Convert input data to torch tensor\n",
    "\n",
    "data = torch.tensor(encode(text), dtype=torch.long)\n",
    "print(data.shape, data.dtype)"
   ]
  },
  {
   "cell_type": "code",
   "execution_count": 6,
   "metadata": {},
   "outputs": [
    {
     "name": "stdout",
     "output_type": "stream",
     "text": [
      "Num train examples: torch.Size([1003854])\n",
      "Num test examples: torch.Size([111540])\n"
     ]
    }
   ],
   "source": [
    "# Convert the data into a train/test split\n",
    "n = int(0.9 * len(data))\n",
    "train_data = data[:n]\n",
    "test_data = data[n:]\n",
    "\n",
    "print(f\"Num train examples: {train_data.shape}\")\n",
    "print(f\"Num test examples: {test_data.shape}\")"
   ]
  },
  {
   "cell_type": "code",
   "execution_count": 7,
   "metadata": {},
   "outputs": [
    {
     "data": {
      "text/plain": [
       "tensor([18, 47, 56, 57, 58,  1, 15, 47, 58])"
      ]
     },
     "execution_count": 7,
     "metadata": {},
     "output_type": "execute_result"
    }
   ],
   "source": [
    "block_size = 8\n",
    "\n",
    "train_data[: block_size + 1]"
   ]
  },
  {
   "cell_type": "code",
   "execution_count": 8,
   "metadata": {},
   "outputs": [
    {
     "name": "stdout",
     "output_type": "stream",
     "text": [
      "When the input is tensor([24]) the target is 43\n",
      "L -> e\n",
      "When the input is tensor([24, 43]) the target is 58\n",
      "Le -> t\n",
      "When the input is tensor([24, 43, 58]) the target is 5\n",
      "Let -> '\n",
      "When the input is tensor([24, 43, 58,  5]) the target is 57\n",
      "Let' -> s\n",
      "When the input is tensor([24, 43, 58,  5, 57]) the target is 1\n",
      "Let's ->  \n",
      "When the input is tensor([24, 43, 58,  5, 57,  1]) the target is 46\n",
      "Let's  -> h\n",
      "When the input is tensor([24, 43, 58,  5, 57,  1, 46]) the target is 43\n",
      "Let's h -> e\n",
      "When the input is tensor([24, 43, 58,  5, 57,  1, 46, 43]) the target is 39\n",
      "Let's he -> a\n",
      "When the input is tensor([44]) the target is 53\n",
      "f -> o\n",
      "When the input is tensor([44, 53]) the target is 56\n",
      "fo -> r\n",
      "When the input is tensor([44, 53, 56]) the target is 1\n",
      "for ->  \n",
      "When the input is tensor([44, 53, 56,  1]) the target is 58\n",
      "for  -> t\n",
      "When the input is tensor([44, 53, 56,  1, 58]) the target is 46\n",
      "for t -> h\n",
      "When the input is tensor([44, 53, 56,  1, 58, 46]) the target is 39\n",
      "for th -> a\n",
      "When the input is tensor([44, 53, 56,  1, 58, 46, 39]) the target is 58\n",
      "for tha -> t\n",
      "When the input is tensor([44, 53, 56,  1, 58, 46, 39, 58]) the target is 1\n",
      "for that ->  \n",
      "When the input is tensor([52]) the target is 58\n",
      "n -> t\n",
      "When the input is tensor([52, 58]) the target is 1\n",
      "nt ->  \n",
      "When the input is tensor([52, 58,  1]) the target is 58\n",
      "nt  -> t\n",
      "When the input is tensor([52, 58,  1, 58]) the target is 46\n",
      "nt t -> h\n",
      "When the input is tensor([52, 58,  1, 58, 46]) the target is 39\n",
      "nt th -> a\n",
      "When the input is tensor([52, 58,  1, 58, 46, 39]) the target is 58\n",
      "nt tha -> t\n",
      "When the input is tensor([52, 58,  1, 58, 46, 39, 58]) the target is 1\n",
      "nt that ->  \n",
      "When the input is tensor([52, 58,  1, 58, 46, 39, 58,  1]) the target is 46\n",
      "nt that  -> h\n",
      "When the input is tensor([25]) the target is 17\n",
      "M -> E\n",
      "When the input is tensor([25, 17]) the target is 27\n",
      "ME -> O\n",
      "When the input is tensor([25, 17, 27]) the target is 10\n",
      "MEO -> :\n",
      "When the input is tensor([25, 17, 27, 10]) the target is 0\n",
      "MEO: -> \n",
      "\n",
      "When the input is tensor([25, 17, 27, 10,  0]) the target is 21\n",
      "MEO:\n",
      " -> I\n",
      "When the input is tensor([25, 17, 27, 10,  0, 21]) the target is 1\n",
      "MEO:\n",
      "I ->  \n",
      "When the input is tensor([25, 17, 27, 10,  0, 21,  1]) the target is 54\n",
      "MEO:\n",
      "I  -> p\n",
      "When the input is tensor([25, 17, 27, 10,  0, 21,  1, 54]) the target is 39\n",
      "MEO:\n",
      "I p -> a\n"
     ]
    }
   ],
   "source": [
    "torch.manual_seed(1337)\n",
    "batch_size = 4\n",
    "block_size = 8\n",
    "\n",
    "\n",
    "def get_batch(split: str):\n",
    "    \"\"\"Generate a mini-batch of training data.\"\"\"\n",
    "    if split not in [\"train\", \"test\"]:\n",
    "        raise ValueError(\"`split` must be one of `train` or `test`.\")\n",
    "\n",
    "    data = train_data if split == \"train\" else test_data\n",
    "    ix = torch.randint(len(data) - block_size, (batch_size,))\n",
    "    x = torch.stack([data[i : i + block_size] for i in ix])\n",
    "    y = torch.stack([data[i + 1 : i + block_size + 1] for i in ix])\n",
    "    return x, y\n",
    "\n",
    "\n",
    "xb, yb = get_batch(\"train\")\n",
    "\n",
    "for b in range(batch_size):  # batch dimension\n",
    "    for t in range(block_size):  # time dimension\n",
    "        context = xb[b, : t + 1]\n",
    "        target = yb[b, t]\n",
    "        print(f\"When the input is {context} the target is {target}\")\n",
    "        print(f\"{decode(context.tolist())} -> {decode([target.item()])}\")"
   ]
  },
  {
   "cell_type": "code",
   "execution_count": null,
   "metadata": {},
   "outputs": [],
   "source": [
    "torch.manual_seed(1337)\n",
    "\n",
    "\n",
    "class BigramLanguageModel(nn.Module):\n",
    "    def __init__(self, vocab_size):\n",
    "        super().__init__()\n",
    "        self.token_embedding_table = nn.Embedding(vocab_size, vocab_size)\n",
    "\n",
    "    def forward(self, idx, targets=None):\n",
    "        \"\"\"Forward pass. If targets is none, just return the logits.\"\"\"\n",
    "        # idx and targets are both (B, T) batches of integers\n",
    "        logits = self.token_embedding_table(idx)  # (B, T, C)\n",
    "\n",
    "        if targets is None:\n",
    "            loss = None\n",
    "        else:\n",
    "            B, T, C = logits.shape\n",
    "            logits = logits.view(B * T, C)  # cross entropy expects a (B, C, d...)\n",
    "            targets = targets.view(B * T)\n",
    "            loss = F.cross_entropy(logits, targets)\n",
    "\n",
    "        return logits, loss\n",
    "\n",
    "    def generate(self, idx, max_new_tokens):\n",
    "        \"\"\"Sample from the model.\"\"\"\n",
    "        # idx is a (B, T) array of indices in the current context\n",
    "        for _ in range(max_new_tokens):\n",
    "            # get the predictions\n",
    "            logits, loss = self(idx)\n",
    "            # focus only on the last time step\n",
    "            logits = logits[:, -1, :]  # Becomes (B, C)\n",
    "            # apply softmax to get the probabilities\n",
    "            probs = F.softmax(logits, dim=-1)  # (B, C)\n",
    "            # sample from the distribution\n",
    "            idx_next = torch.multinomial(probs, num_samples=1)  # (B, 1)\n",
    "            # append sampled index to the running sequence\n",
    "            idx = torch.cat((idx, idx_next), dim=1)  # (B, T+1)\n",
    "        return idx"
   ]
  },
  {
   "cell_type": "code",
   "execution_count": 21,
   "metadata": {},
   "outputs": [
    {
     "name": "stdout",
     "output_type": "stream",
     "text": [
      "torch.Size([32, 65])\n",
      "tensor(4.4388, grad_fn=<NllLossBackward0>)\n"
     ]
    }
   ],
   "source": [
    "model = BigramLanguageModel(vocab_size)\n",
    "logits, loss = model(idx=xb, targets=yb)\n",
    "print(logits.shape)\n",
    "print(loss)"
   ]
  },
  {
   "cell_type": "code",
   "execution_count": 29,
   "metadata": {},
   "outputs": [],
   "source": [
    "def print_sample(bigram_model, max_new_tokens: int = 100):\n",
    "    idx = torch.zeros((1, 1), dtype=torch.long)\n",
    "    print(decode(bigram_model.generate(idx, max_new_tokens=max_new_tokens)[0].tolist()))"
   ]
  },
  {
   "cell_type": "code",
   "execution_count": 23,
   "metadata": {},
   "outputs": [],
   "source": [
    "# torch optimizer\n",
    "optimizer = torch.optim.AdamW(model.parameters(), lr=1e-3)"
   ]
  },
  {
   "cell_type": "code",
   "execution_count": 26,
   "metadata": {},
   "outputs": [
    {
     "name": "stdout",
     "output_type": "stream",
     "text": [
      "2.405902862548828\n"
     ]
    }
   ],
   "source": [
    "batch_size = 32\n",
    "n_steps = 10_000\n",
    "\n",
    "for steps in range(n_steps):\n",
    "    xb, yb = get_batch(\"train\")\n",
    "\n",
    "    logits, loss = model(idx=xb, targets=yb)\n",
    "    optimizer.zero_grad(set_to_none=True)\n",
    "    loss.backward()\n",
    "    optimizer.step()\n",
    "\n",
    "print(loss.item())"
   ]
  },
  {
   "cell_type": "code",
   "execution_count": 30,
   "metadata": {},
   "outputs": [
    {
     "name": "stdout",
     "output_type": "stream",
     "text": [
      "\n",
      "\n",
      "G arin gr t id wsse HICon me seave:\n",
      "D:\n",
      "Thisthien d cl opoue chtileellenk.\n",
      "LAngrm\n",
      "Tha.\n",
      "ICHe wethareve avered iverefaugiblleato ws,\n",
      "PAnglland win theve.\n",
      "\n",
      "Frve cle ad fathigha nobeetonoueay! noonderstiaget nd sss t,\n",
      "T: y sheethrensetr g tis imaugin:\n",
      "LI bust ffentr w my mso\n",
      "Thay tang omyod eros Yor,\n",
      "\n",
      "A\n"
     ]
    }
   ],
   "source": [
    "print_sample(model, max_new_tokens=300)"
   ]
  },
  {
   "cell_type": "markdown",
   "metadata": {},
   "source": [
    "# Basic Self-Attention Unit"
   ]
  },
  {
   "cell_type": "code",
   "execution_count": 8,
   "metadata": {},
   "outputs": [
    {
     "data": {
      "text/plain": [
       "torch.Size([4, 8, 16])"
      ]
     },
     "execution_count": 8,
     "metadata": {},
     "output_type": "execute_result"
    }
   ],
   "source": [
    "torch.manual_seed(1337)\n",
    "B, T, C = 4, 8, 32  # batch, time, channels\n",
    "x = torch.randn(B, T, C)\n",
    "\n",
    "# Single self-attention head\n",
    "head_size = 16\n",
    "key = nn.Linear(C, head_size, bias=False)\n",
    "query = nn.Linear(C, head_size, bias=False)\n",
    "value = nn.Linear(C, head_size, bias=False)\n",
    "\n",
    "k = key(x)  # (B, T, head_size)\n",
    "q = query(x)  # (B, T, head_size)\n",
    "\n",
    "# Determine the affinities between the tokens\n",
    "wei = q @ k.transpose(-2, -1)  # (B, T, 16) @ (B, 16, T) -> (B, T, T)\n",
    "\n",
    "# Aggregation is a data-dependent average of the keys and queries\n",
    "tril = torch.tril(torch.ones(T, T))\n",
    "wei = wei.masked_fill(tril == 0, float(\"-inf\"))\n",
    "wei = F.softmax(wei, dim=-1)\n",
    "\n",
    "v = value(x)\n",
    "out = wei @ v\n",
    "\n",
    "out.shape"
   ]
  },
  {
   "cell_type": "code",
   "execution_count": null,
   "metadata": {},
   "outputs": [],
   "source": []
  }
 ],
 "metadata": {
  "kernelspec": {
   "display_name": "magic-env",
   "language": "python",
   "name": "magic-env"
  },
  "language_info": {
   "codemirror_mode": {
    "name": "ipython",
    "version": 3
   },
   "file_extension": ".py",
   "mimetype": "text/x-python",
   "name": "python",
   "nbconvert_exporter": "python",
   "pygments_lexer": "ipython3",
   "version": "3.11.11"
  }
 },
 "nbformat": 4,
 "nbformat_minor": 2
}
