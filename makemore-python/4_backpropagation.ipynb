{
 "cells": [
  {
   "cell_type": "code",
   "execution_count": 1,
   "metadata": {},
   "outputs": [],
   "source": [
    "import torch\n",
    "import random\n",
    "import numpy as np\n",
    "import torch.nn.functional as F\n",
    "import matplotlib.pyplot as plt\n",
    "from MulticoreTSNE import MulticoreTSNE as TSNE\n",
    "\n",
    "random.seed(42)"
   ]
  },
  {
   "cell_type": "code",
   "execution_count": null,
   "metadata": {},
   "outputs": [],
   "source": [
    "# Construct the list of names\n",
    "words = list()\n",
    "with open(\"names.txt\", \"r\") as infile:\n",
    "    for line in infile:\n",
    "        words.append(line.strip())\n",
    "print(len(words))\n",
    "print(max(len(w) for w in words))"
   ]
  },
  {
   "cell_type": "code",
   "execution_count": 3,
   "metadata": {},
   "outputs": [],
   "source": [
    "# Mapping of characters to/from integers\n",
    "special = \".\"\n",
    "chars = sorted(list(set(\"\".join(words))))\n",
    "STOI = {s: i + 1 for i, s in enumerate(chars)}\n",
    "STOI[special] = 0\n",
    "ITOS = {i: s for s, i in STOI.items()}\n",
    "vocab_size = len(STOI)"
   ]
  },
  {
   "cell_type": "code",
   "execution_count": null,
   "metadata": {},
   "outputs": [],
   "source": [
    "def build_dataset(words, *, special: str = \".\", block_size: int = 3) -> tuple[torch.tensor]:\n",
    "    (X, Y) = (list(), list())\n",
    "\n",
    "    for word in words:\n",
    "        context = [0] * block_size\n",
    "        for char in word + special:\n",
    "            ix = STOI[char]\n",
    "            X.append(context)\n",
    "            Y.append(ix)\n",
    "            context = context[1:] + [ix]\n",
    "\n",
    "    X = torch.tensor(X)\n",
    "    Y = torch.tensor(Y)\n",
    "    print(f\"Constructed dataset: X: {X.shape}, Y: {Y.shape}\")\n",
    "    return X, Y\n",
    "\n",
    "\n",
    "# Train, Development, Test split\n",
    "block_size = 3\n",
    "random.shuffle(words)\n",
    "n1 = int(0.8 * len(words))\n",
    "n2 = int(0.9 * len(words))\n",
    "\n",
    "Xtr, Ytr = build_dataset(words[:n1], block_size=block_size)\n",
    "Xdev, Ydev = build_dataset(words[n1:n2], block_size=block_size)\n",
    "Xtest, Ytest = build_dataset(words[n2:], block_size=block_size)"
   ]
  },
  {
   "cell_type": "code",
   "execution_count": 5,
   "metadata": {},
   "outputs": [],
   "source": [
    "# Utility function for comparing manually generated gradients to those calculated by pytorch\n",
    "\n",
    "\n",
    "def cmp(s, dt, t):\n",
    "    exact = torch.all(dt == t.grad).item()\n",
    "    approx = torch.allclose(dt, t.grad)\n",
    "    maxdiff = (dt - t.grad).abs().max().item()\n",
    "    print(f\"{s:15s} | exact: {str(ex):5s} | approximate: {str(app):5s} | maxdiff: {maxdiff}\")"
   ]
  },
  {
   "cell_type": "code",
   "execution_count": null,
   "metadata": {},
   "outputs": [],
   "source": [
    "n_hidden = 64\n",
    "n_embedding = 10\n",
    "\n",
    "gen = torch.Generator().manual_seed(2147483647)\n",
    "\n",
    "C = torch.randn((vocab_size, n_embedding), generator=gen)\n",
    "\n",
    "# Layer 1\n",
    "kaiming_init = (5 / 3) / ((n_embedding * block_size) ** 0.5)\n",
    "W1 = torch.randn((block_size * n_embedding, n_hidden), generator=gen)\n",
    "b1 = torch.randn(n_hidden, generator=gen)\n",
    "\n",
    "# Layer 2\n",
    "W2 = torch.randn((n_hidden, vocab_size), generator=gen) * 0.1\n",
    "b2 = torch.randn(vocab_size, generator=gen) * 0.1\n",
    "\n",
    "# BatchNorm parameters\n",
    "bn_gain = torch.randn((1, n_hidden)) * 0.1 + 1.0\n",
    "bn_bias = torch.randn((1, n_hidden)) * 0.1\n",
    "bn_momentum = 0.001\n",
    "\n",
    "parameters = [C, W1, b1, W2, b2, bn_gain, bn_bias]\n",
    "print(sum(p.nelement() for p in parameters))\n",
    "\n",
    "for p in parameters:\n",
    "    p.requires_grad = True"
   ]
  },
  {
   "cell_type": "code",
   "execution_count": 7,
   "metadata": {},
   "outputs": [],
   "source": [
    "batch_size = 32\n",
    "n = batch_size  # a shorter variable also, for convenience\n",
    "# construct a minibatch\n",
    "ix = torch.randint(0, Xtr.shape[0], (batch_size,), generator=gen)\n",
    "Xb, Yb = Xtr[ix], Ytr[ix]  # batch X,Y"
   ]
  },
  {
   "cell_type": "code",
   "execution_count": null,
   "metadata": {},
   "outputs": [],
   "source": [
    "# forward pass, \"chunkated\" into smaller steps that are possible to backward one at a time\n",
    "\n",
    "emb = C[Xb]  # embed the characters into vectors\n",
    "embcat = emb.view(emb.shape[0], -1)  # concatenate the vectors\n",
    "\n",
    "# Linear layer 1\n",
    "hprebn = embcat @ W1 + b1  # hidden layer pre-activation\n",
    "\n",
    "# BatchNorm layer\n",
    "bnmeani = 1 / n * hprebn.sum(0, keepdim=True)\n",
    "bndiff = hprebn - bnmeani\n",
    "bndiff2 = bndiff**2\n",
    "bnvar = 1 / (n - 1) * (bndiff2).sum(0, keepdim=True)  # note: Bessel's correction (dividing by n-1, not n)\n",
    "bnvar_inv = (bnvar + 1e-5) ** -0.5\n",
    "bn_raw = bndiff * bnvar_inv\n",
    "hpreact = bn_gain * bn_raw + bn_bias\n",
    "\n",
    "# Non-linearity\n",
    "h = torch.tanh(hpreact)  # hidden layer\n",
    "\n",
    "# Linear layer 2\n",
    "logits = h @ W2 + b2  # output layer\n",
    "\n",
    "# cross entropy loss (same as F.cross_entropy(logits, Yb))\n",
    "logit_maxes = logits.max(1, keepdim=True).values\n",
    "norm_logits = logits - logit_maxes  # subtract max for numerical stability\n",
    "counts = norm_logits.exp()\n",
    "counts_sum = counts.sum(1, keepdims=True)\n",
    "counts_sum_inv = counts_sum**-1\n",
    "probs = counts * counts_sum_inv\n",
    "logprobs = probs.log()\n",
    "loss = -logprobs[range(n), Yb].mean()\n",
    "\n",
    "# PyTorch backward pass\n",
    "for p in parameters:\n",
    "    p.grad = None\n",
    "\n",
    "for t in [\n",
    "    logprobs,\n",
    "    probs,\n",
    "    counts,\n",
    "    counts_sum,\n",
    "    counts_sum_inv,\n",
    "    norm_logits,\n",
    "    logit_maxes,\n",
    "    logits,\n",
    "    h,\n",
    "    hpreact,\n",
    "    bn_raw,\n",
    "    bnvar_inv,\n",
    "    bnvar,\n",
    "    bndiff2,\n",
    "    bndiff,\n",
    "    hprebn,\n",
    "    bnmeani,\n",
    "    embcat,\n",
    "    emb,\n",
    "]:\n",
    "    t.retain_grad()\n",
    "loss.backward()\n",
    "loss"
   ]
  },
  {
   "cell_type": "code",
   "execution_count": null,
   "metadata": {},
   "outputs": [],
   "source": [
    "\"\".join([ITOS[item.item()] for item in Ytr[:35]])"
   ]
  },
  {
   "cell_type": "code",
   "execution_count": null,
   "metadata": {},
   "outputs": [],
   "source": [
    "for i, element in enumerate(Xb):\n",
    "    batch = [ITOS[elem.item()] for elem in element]\n",
    "    nxt = [ITOS[Yb[i].item()]]\n",
    "    print(\"\".join(batch + nxt))"
   ]
  },
  {
   "cell_type": "code",
   "execution_count": 9,
   "metadata": {},
   "outputs": [],
   "source": [
    "# Construct manual backpropagation through the entire network\n",
    "\n",
    "# dlogprobs - we want to compute the gradient of the loss with respect to all the elements of the dlogprobs tensor\n",
    "\n",
    "# cmp('dlogprobs', dlogprobs, logprobs)"
   ]
  }
 ],
 "metadata": {
  "kernelspec": {
   "display_name": "magic-env",
   "language": "python",
   "name": "magic-env"
  },
  "language_info": {
   "codemirror_mode": {
    "name": "ipython",
    "version": 3
   },
   "file_extension": ".py",
   "mimetype": "text/x-python",
   "name": "python",
   "nbconvert_exporter": "python",
   "pygments_lexer": "ipython3",
   "version": "3.11.10"
  }
 },
 "nbformat": 4,
 "nbformat_minor": 2
}
