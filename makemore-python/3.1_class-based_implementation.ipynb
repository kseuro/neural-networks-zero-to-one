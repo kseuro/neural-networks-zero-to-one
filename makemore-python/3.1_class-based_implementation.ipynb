{
 "cells": [
  {
   "cell_type": "code",
   "execution_count": 2,
   "metadata": {},
   "outputs": [],
   "source": [
    "import torch"
   ]
  },
  {
   "cell_type": "code",
   "execution_count": null,
   "metadata": {},
   "outputs": [],
   "source": [
    "# Define the base linear layer\n",
    "\n",
    "\n",
    "class Linear:\n",
    "\n",
    "    def __init__(\n",
    "        self,\n",
    "        fan_in: float,\n",
    "        fan_out: float,\n",
    "        bias: bool = True,\n",
    "        generator: \"object\" = None,\n",
    "    ):\n",
    "        kaiming_init = fan_in**0.5\n",
    "        self.weight = torch.randn((fan_in, fan_out), generator=generator) / kaiming_init\n",
    "        self.bias = torch.zeros(fan_out) if bias else None\n",
    "\n",
    "    def __call__(self, x: \"torch.tensor\") -> \"torch.tensor\":\n",
    "        out = x @ self.weight\n",
    "        if self.bias is not None:\n",
    "            out += self.bias\n",
    "        return out\n",
    "\n",
    "    @property\n",
    "    def parameters(self) -> \"list[torch.tensor]\":\n",
    "        return [self.weight] + ([] if self.bias is None else [self.bias])\n",
    "\n",
    "\n",
    "class BatchNorm1D:\n",
    "\n",
    "    def __init__(self, dim: int, eps: float = 1e-5, momentum: float = 0.1):\n",
    "        self.eps = eps\n",
    "        self.momentum = momentum\n",
    "        self.training = True\n",
    "\n",
    "        self.gamma = torch.ones(dim)\n",
    "        self.beta = torch.zeros(dim)\n",
    "\n",
    "        self.running_mean = torch.zeros(dim)\n",
    "        self.running_var = torch.ones(dim)\n",
    "\n",
    "    # TODO: Define __call__\n",
    "\n",
    "    # TODO: Define parameters property"
   ]
  }
 ],
 "metadata": {
  "kernelspec": {
   "display_name": "magic-env",
   "language": "python",
   "name": "magic-env"
  },
  "language_info": {
   "codemirror_mode": {
    "name": "ipython",
    "version": 3
   },
   "file_extension": ".py",
   "mimetype": "text/x-python",
   "name": "python",
   "nbconvert_exporter": "python",
   "pygments_lexer": "ipython3",
   "version": "3.11.10"
  }
 },
 "nbformat": 4,
 "nbformat_minor": 2
}
