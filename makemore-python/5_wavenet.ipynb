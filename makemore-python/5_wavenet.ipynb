{
 "cells": [
  {
   "cell_type": "code",
   "execution_count": 1,
   "metadata": {},
   "outputs": [],
   "source": [
    "import torch\n",
    "import random\n",
    "import numpy as np\n",
    "import seaborn as sns\n",
    "import matplotlib.pyplot as plt\n",
    "import torch.nn.functional as F"
   ]
  },
  {
   "cell_type": "code",
   "execution_count": 2,
   "metadata": {},
   "outputs": [],
   "source": [
    "from layers_part_5 import Linear, BatchNorm1d, Tanh, Embedding, FlattenConsecutive, Sequential"
   ]
  },
  {
   "cell_type": "code",
   "execution_count": 3,
   "metadata": {},
   "outputs": [],
   "source": [
    "# Construct the list of names and produce a dataset\n",
    "words = list()\n",
    "with open(\"names.txt\", \"r\") as infile:\n",
    "    for line in infile:\n",
    "        words.append(line.strip())\n",
    "\n",
    "# Mapping of characters to/from integers\n",
    "special = \".\"\n",
    "chars = sorted(list(set(\"\".join(words))))\n",
    "STOI = {s: i + 1 for i, s in enumerate(chars)}\n",
    "STOI[special] = 0\n",
    "ITOS = {i: s for s, i in STOI.items()}\n",
    "\n",
    "vocab_size = len(STOI)"
   ]
  },
  {
   "cell_type": "code",
   "execution_count": 4,
   "metadata": {},
   "outputs": [],
   "source": [
    "random.seed(42)\n",
    "random.shuffle(words)"
   ]
  },
  {
   "cell_type": "code",
   "execution_count": 5,
   "metadata": {},
   "outputs": [],
   "source": [
    "block_size = 8"
   ]
  },
  {
   "cell_type": "code",
   "execution_count": null,
   "metadata": {},
   "outputs": [],
   "source": [
    "# Construct the dataset\n",
    "\n",
    "\n",
    "def build_dataset(words, *, special: str = \".\", block_size: int = 3) -> \"tuple[torch.tensor]\":\n",
    "    (X, Y) = (list(), list())\n",
    "\n",
    "    for word in words:\n",
    "        context = [0] * block_size\n",
    "        for char in word + special:\n",
    "            ix = STOI[char]\n",
    "            X.append(context)\n",
    "            Y.append(ix)\n",
    "            context = context[1:] + [ix]\n",
    "\n",
    "    X = torch.tensor(X)\n",
    "    Y = torch.tensor(Y)\n",
    "    print(f\"Constructed dataset: X: {X.shape}, Y: {Y.shape}\")\n",
    "    return X, Y\n",
    "\n",
    "\n",
    "# Train, Development, Test split\n",
    "random.shuffle(words)\n",
    "n1 = int(0.8 * len(words))\n",
    "n2 = int(0.9 * len(words))\n",
    "\n",
    "Xtr, Ytr = build_dataset(words[:n1], block_size=block_size)\n",
    "Xdev, Ydev = build_dataset(words[n1:n2], block_size=block_size)\n",
    "Xtest, Ytest = build_dataset(words[n2:], block_size=block_size)"
   ]
  },
  {
   "cell_type": "code",
   "execution_count": null,
   "metadata": {},
   "outputs": [],
   "source": [
    "for x, y in zip(Xtr[:20], Ytr[:20]):\n",
    "    print(\"\".join(ITOS[ix.item()] for ix in x), \"-->\", ITOS[y.item()])"
   ]
  },
  {
   "cell_type": "code",
   "execution_count": null,
   "metadata": {},
   "outputs": [],
   "source": [
    "torch.manual_seed(42)"
   ]
  },
  {
   "cell_type": "code",
   "execution_count": null,
   "metadata": {},
   "outputs": [],
   "source": [
    "# Re-create the training loop with an improved model instantiation\n",
    "\n",
    "n_embed = 10\n",
    "n_hidden = 68\n",
    "\n",
    "model = Sequential(\n",
    "    [\n",
    "        Embedding(vocab_size, n_embed),\n",
    "        FlattenConsecutive(2),\n",
    "        Linear(fan_in=n_embed * 2, fan_out=n_hidden, bias=False),\n",
    "        BatchNorm1d(n_hidden),\n",
    "        Tanh(),\n",
    "        FlattenConsecutive(2),\n",
    "        Linear(fan_in=n_hidden * 2, fan_out=n_hidden, bias=False),\n",
    "        BatchNorm1d(n_hidden),\n",
    "        Tanh(),\n",
    "        FlattenConsecutive(2),\n",
    "        Linear(fan_in=n_hidden * 2, fan_out=n_hidden, bias=False),\n",
    "        BatchNorm1d(n_hidden),\n",
    "        Tanh(),\n",
    "        Linear(fan_in=n_hidden, fan_out=vocab_size),\n",
    "    ]\n",
    ")\n",
    "\n",
    "with torch.no_grad():\n",
    "    model.layers[-1].weight *= 0.1  # slightly less confident\n",
    "\n",
    "parameters = model.parameters\n",
    "n_parameters = sum(p.nelement() for p in parameters)\n",
    "print(f\"{n_parameters} parameters\")\n",
    "for p in parameters:\n",
    "    p.requires_grad = True"
   ]
  },
  {
   "cell_type": "code",
   "execution_count": null,
   "metadata": {},
   "outputs": [],
   "source": [
    "# Optimization loop\n",
    "max_epoch = 200_000\n",
    "optimal_rate = 0.1\n",
    "batch_size = 32\n",
    "loss_i = list()\n",
    "update_info = list()\n",
    "\n",
    "for epoch in range(max_epoch):\n",
    "\n",
    "    # Construct a mini-batch\n",
    "    ix = torch.randint(0, Xtr.shape[0], (batch_size,))\n",
    "    Xb, Yb = Xtr[ix], Ytr[ix]\n",
    "\n",
    "    # Forward pass\n",
    "    logits = model(Xb)\n",
    "    loss = F.cross_entropy(logits, Yb)\n",
    "\n",
    "    # Backward pass\n",
    "    for p in parameters:\n",
    "        p.grad = None\n",
    "    loss.backward()\n",
    "\n",
    "    # Update step with learning rate decay\n",
    "    current_rate = 0.0\n",
    "    if epoch < 0.5 * max_epoch:\n",
    "        current_rate = optimal_rate\n",
    "    elif epoch > 0.5 * max_epoch and epoch < 0.75 * max_epoch:\n",
    "        current_rate = optimal_rate / 10\n",
    "    elif epoch > 0.75 * max_epoch and epoch < 0.95 * max_epoch:\n",
    "        current_rate = optimal_rate / 100\n",
    "    else:\n",
    "        current_rate = optimal_rate / 1000\n",
    "    for p in parameters:\n",
    "        p.data += -current_rate * p.grad\n",
    "\n",
    "    # Track stats\n",
    "    if epoch % 10_000 == 0:\n",
    "        print(f\"{epoch:7d}/{max_epoch:7d}: {loss.item():.4f}\")\n",
    "    loss_i.append(loss.log10().item())"
   ]
  },
  {
   "cell_type": "code",
   "execution_count": null,
   "metadata": {},
   "outputs": [],
   "source": [
    "plt.plot(torch.tensor(loss_i).view(-1, 1000).mean(1))"
   ]
  },
  {
   "cell_type": "code",
   "execution_count": 12,
   "metadata": {},
   "outputs": [],
   "source": [
    "# Put layers in eval mode\n",
    "for layer in model.layers:\n",
    "    layer.training = False"
   ]
  },
  {
   "cell_type": "code",
   "execution_count": null,
   "metadata": {},
   "outputs": [],
   "source": [
    "# Evaluate the loss\n",
    "@torch.no_grad()\n",
    "def split_loss(split):\n",
    "    x, y = {\n",
    "        \"train\": (Xtr, Ytr),\n",
    "        \"val\": (Xdev, Ydev),\n",
    "        \"test\": (Xtest, Ytest),\n",
    "    }[split]\n",
    "\n",
    "    logits = model(x)\n",
    "    loss = F.cross_entropy(logits, y)\n",
    "    print(split, loss.item())\n",
    "\n",
    "\n",
    "split_loss(\"train\")\n",
    "split_loss(\"val\")"
   ]
  },
  {
   "cell_type": "code",
   "execution_count": null,
   "metadata": {},
   "outputs": [],
   "source": [
    "# Sample from the model\n",
    "n_samples = 10\n",
    "with torch.no_grad():\n",
    "    for _ in range(n_samples):\n",
    "        out = []\n",
    "        context = [0] * block_size\n",
    "        while True:\n",
    "            logits = model(torch.tensor([context]))\n",
    "            probs = F.softmax(logits, dim=1)\n",
    "            ix = torch.multinomial(probs, num_samples=1).item()\n",
    "            context = context[1:] + [ix]\n",
    "            out.append(ix)\n",
    "            if ix == 0:\n",
    "                break\n",
    "\n",
    "        print(\"\".join(ITOS[i] for i in out))"
   ]
  }
 ],
 "metadata": {
  "kernelspec": {
   "display_name": "magic-env",
   "language": "python",
   "name": "magic-env"
  },
  "language_info": {
   "codemirror_mode": {
    "name": "ipython",
    "version": 3
   },
   "file_extension": ".py",
   "mimetype": "text/x-python",
   "name": "python",
   "nbconvert_exporter": "python",
   "pygments_lexer": "ipython3",
   "version": "3.11.10"
  }
 },
 "nbformat": 4,
 "nbformat_minor": 2
}
