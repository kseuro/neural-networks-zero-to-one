{
 "cells": [
  {
   "cell_type": "code",
   "execution_count": 1,
   "metadata": {},
   "outputs": [],
   "source": [
    "import torch\n",
    "import random\n",
    "import numpy as np\n",
    "import seaborn as sns\n",
    "import matplotlib.pyplot as plt\n",
    "import torch.nn.functional as F"
   ]
  },
  {
   "cell_type": "code",
   "execution_count": 5,
   "metadata": {},
   "outputs": [],
   "source": [
    "from layers_part_5 import Linear, BatchNorm1d, Tanh"
   ]
  },
  {
   "cell_type": "code",
   "execution_count": 2,
   "metadata": {},
   "outputs": [],
   "source": [
    "# Construct the list of names and produce a dataset\n",
    "words = list()\n",
    "with open(\"names.txt\", \"r\") as infile:\n",
    "    for line in infile:\n",
    "        words.append(line.strip())\n",
    "\n",
    "# Mapping of characters to/from integers\n",
    "special = \".\"\n",
    "chars = sorted(list(set(\"\".join(words))))\n",
    "STOI = {s: i + 1 for i, s in enumerate(chars)}\n",
    "STOI[special] = 0\n",
    "ITOS = {i: s for s, i in STOI.items()}\n",
    "\n",
    "vocab_size = len(STOI)"
   ]
  },
  {
   "cell_type": "code",
   "execution_count": 3,
   "metadata": {},
   "outputs": [],
   "source": [
    "random.seed(42)\n",
    "random.shuffle(words)"
   ]
  },
  {
   "cell_type": "code",
   "execution_count": 4,
   "metadata": {},
   "outputs": [],
   "source": [
    "block_size = 3"
   ]
  },
  {
   "cell_type": "code",
   "execution_count": null,
   "metadata": {},
   "outputs": [],
   "source": [
    "# Construct the dataset\n",
    "\n",
    "\n",
    "def build_dataset(words, *, special: str = \".\", block_size: int = 3) -> \"tuple[torch.tensor]\":\n",
    "    (X, Y) = (list(), list())\n",
    "\n",
    "    for word in words:\n",
    "        context = [0] * block_size\n",
    "        for char in word + special:\n",
    "            ix = STOI[char]\n",
    "            X.append(context)\n",
    "            Y.append(ix)\n",
    "            context = context[1:] + [ix]\n",
    "\n",
    "    X = torch.tensor(X)\n",
    "    Y = torch.tensor(Y)\n",
    "    print(f\"Constructed dataset: X: {X.shape}, Y: {Y.shape}\")\n",
    "    return X, Y\n",
    "\n",
    "\n",
    "# Train, Development, Test split\n",
    "random.shuffle(words)\n",
    "n1 = int(0.8 * len(words))\n",
    "n2 = int(0.9 * len(words))\n",
    "\n",
    "Xtr, Ytr = build_dataset(words[:n1])\n",
    "Xdev, Ydev = build_dataset(words[n1:n2])\n",
    "Xtest, Ytest = build_dataset(words[n2:])"
   ]
  },
  {
   "cell_type": "code",
   "execution_count": null,
   "metadata": {},
   "outputs": [],
   "source": [
    "torch.manual_seed(42)"
   ]
  },
  {
   "cell_type": "code",
   "execution_count": null,
   "metadata": {},
   "outputs": [],
   "source": [
    "# Re-create the training loop with an improved model instantiation\n",
    "\n",
    "n_embed = 10\n",
    "n_hidden = 200\n",
    "fan_in = n_embed * block_size\n",
    "C = torch.randn((vocab_size, n_embed))\n",
    "\n",
    "layers = [\n",
    "    Linear(fan_in=fan_in, fan_out=n_hidden, bias=False),\n",
    "    BatchNorm1d(n_hidden),\n",
    "    Tanh(),\n",
    "    Linear(fan_in=n_hidden, fan_out=vocab_size),\n",
    "]\n",
    "\n",
    "with torch.no_grad():\n",
    "    layers[-1].weight *= 0.1  # slightly less confident\n",
    "\n",
    "parameters = [C] + [p for layer in layers for p in layer.parameters]\n",
    "n_parameters = sum(p.nelement() for p in parameters)\n",
    "print(f\"{n_parameters} parameters\")\n",
    "for p in parameters:\n",
    "    p.requires_grad = True"
   ]
  },
  {
   "cell_type": "code",
   "execution_count": null,
   "metadata": {},
   "outputs": [],
   "source": [
    "# Optimization loop\n",
    "max_epoch = 200_000\n",
    "optimal_rate = 0.1\n",
    "batch_size = 32\n",
    "loss_i = list()\n",
    "update_info = list()\n",
    "\n",
    "for epoch in range(max_epoch):\n",
    "\n",
    "    # Construct a mini-batch\n",
    "    ix = torch.randint(0, Xtr.shape[0], (batch_size,))\n",
    "    Xb, Yb = Xtr[ix], Ytr[ix]\n",
    "\n",
    "    # Forward pass\n",
    "    emb = C[Xb]  # Embed the characters into vectors\n",
    "    x = emb.view(emb.shape[0], -1)\n",
    "    for layer in layers:\n",
    "        x = layer(x)\n",
    "    loss = F.cross_entropy(x, Yb)\n",
    "\n",
    "    # Backward pass\n",
    "    for p in parameters:\n",
    "        p.grad = None\n",
    "    loss.backward()\n",
    "\n",
    "    # Update step with learning rate decay\n",
    "    current_rate = 0.0\n",
    "    if epoch < 0.5 * max_epoch:\n",
    "        current_rate = optimal_rate\n",
    "    elif epoch > 0.5 * max_epoch and epoch < 0.75 * max_epoch:\n",
    "        current_rate = optimal_rate / 10\n",
    "    elif epoch > 0.75 * max_epoch and epoch < 0.95 * max_epoch:\n",
    "        current_rate = optimal_rate / 100\n",
    "    else:\n",
    "        current_rate = optimal_rate / 1000\n",
    "    for p in parameters:\n",
    "        p.data += -current_rate * p.grad\n",
    "\n",
    "    # Track stats\n",
    "    if epoch % 10_000 == 0:\n",
    "        print(f\"{epoch:7d}/{max_epoch:7d}: {loss.item():.4f}\")\n",
    "    loss_i.append(loss.log10().item())"
   ]
  },
  {
   "cell_type": "code",
   "execution_count": null,
   "metadata": {},
   "outputs": [],
   "source": [
    "# Sample from the model\n",
    "n_samples = 10\n",
    "with torch.no_grad():\n",
    "    for _ in range(n_samples):\n",
    "        out = []\n",
    "        context = [0] * block_size\n",
    "        while True:\n",
    "            # Forward pass\n",
    "            emb = C[torch.tensor([context])]  # (1, block_size, fan_in)\n",
    "            x = emb.view(-1)\n",
    "            for layer in layers:\n",
    "                x = layer(x)\n",
    "            probs = F.softmax(x, dim=0)\n",
    "            ix = torch.multinomial(probs, num_samples=1).item()\n",
    "            context = context[1:] + [ix]\n",
    "            out.append(ix)\n",
    "            if ix == 0:\n",
    "                break\n",
    "\n",
    "        print(\"\".join(ITOS[i] for i in out))"
   ]
  },
  {
   "cell_type": "code",
   "execution_count": null,
   "metadata": {},
   "outputs": [],
   "source": []
  }
 ],
 "metadata": {
  "kernelspec": {
   "display_name": "magic-env",
   "language": "python",
   "name": "magic-env"
  },
  "language_info": {
   "codemirror_mode": {
    "name": "ipython",
    "version": 3
   },
   "file_extension": ".py",
   "mimetype": "text/x-python",
   "name": "python",
   "nbconvert_exporter": "python",
   "pygments_lexer": "ipython3",
   "version": "3.11.10"
  }
 },
 "nbformat": 4,
 "nbformat_minor": 2
}
