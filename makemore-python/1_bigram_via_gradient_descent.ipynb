{
 "cells": [
  {
   "cell_type": "code",
   "execution_count": null,
   "metadata": {},
   "outputs": [],
   "source": [
    "import torch\n",
    "import torch.nn.functional as F\n",
    "import matplotlib.pyplot as plt"
   ]
  },
  {
   "cell_type": "code",
   "execution_count": 73,
   "metadata": {},
   "outputs": [
    {
     "name": "stdout",
     "output_type": "stream",
     "text": [
      "Number of examples: 228146\n"
     ]
    }
   ],
   "source": [
    "# Construct the dataset\n",
    "words = list()\n",
    "with open(\"names.txt\", \"r\") as infile:\n",
    "    for line in infile:\n",
    "        words.append(line.strip())\n",
    "\n",
    "special = \".\"\n",
    "chars = sorted(list(set(\"\".join(words))))\n",
    "stoi = {s: i + 1 for i, s in enumerate(chars)}\n",
    "stoi[special] = 0\n",
    "itos = {i: s for s, i in stoi.items()}\n",
    "\n",
    "xs, ys = list(), list()\n",
    "for word in words:\n",
    "    chars = [special] + list(word) + [special]\n",
    "    for ch1, ch2 in zip(chars, chars[1:]):\n",
    "        idx1 = stoi[ch1]\n",
    "        idx2 = stoi[ch2]\n",
    "        xs.append(idx1)\n",
    "        ys.append(idx2)\n",
    "\n",
    "xs = torch.tensor(xs)\n",
    "ys = torch.tensor(ys)\n",
    "num_examples = xs.nelement()\n",
    "print(f\"Number of examples: {num_examples}\")\n",
    "\n",
    "# Initialize the network\n",
    "gen = torch.Generator().manual_seed(2147483647)\n",
    "W = torch.randn((len(stoi), len(stoi)), generator=gen, requires_grad=True)"
   ]
  },
  {
   "cell_type": "code",
   "execution_count": 74,
   "metadata": {},
   "outputs": [
    {
     "name": "stdout",
     "output_type": "stream",
     "text": [
      "Epoch 0 - loss 3.7686\n",
      "Epoch 100 - loss 2.4900\n",
      "Epoch 200 - loss 2.4830\n",
      "Epoch 300 - loss 2.4815\n",
      "Epoch 400 - loss 2.4810\n",
      "Epoch 500 - loss 2.4807\n",
      "Epoch 600 - loss 2.4806\n",
      "Epoch 700 - loss 2.4805\n",
      "Epoch 800 - loss 2.4805\n",
      "Epoch 900 - loss 2.4805\n"
     ]
    }
   ],
   "source": [
    "# Gradient descent\n",
    "regularization = 0.01\n",
    "for epoch in range(1000):\n",
    "    xenc = F.one_hot(xs, num_classes=len(stoi)).float()\n",
    "    logits = xenc @ W\n",
    "    counts = logits.exp()\n",
    "    probs = counts / counts.sum(1, keepdims=True)\n",
    "    loss = -probs[torch.arange(len(ys)), ys].log().mean() + regularization * W.pow(2).mean()\n",
    "\n",
    "    if epoch % 100 == 0:\n",
    "        print(f\"Epoch {epoch} - loss {loss.item():.4f}\")\n",
    "    # Set gradient to zero and backprob\n",
    "    W.grad = None\n",
    "    loss.backward()\n",
    "\n",
    "    # Update the weights based on new gradients\n",
    "    W.data += -50 * W.grad"
   ]
  },
  {
   "cell_type": "code",
   "execution_count": null,
   "metadata": {},
   "outputs": [
    {
     "name": "stdout",
     "output_type": "stream",
     "text": [
      "jigua.\n",
      "sadryrolyiniydavesole.\n",
      "rish.\n",
      "be.\n",
      "ka.\n"
     ]
    }
   ],
   "source": [
    "# Sample from the model\n",
    "for i in range(5):\n",
    "    output = list()\n",
    "    ix = 0\n",
    "\n",
    "    while True:\n",
    "        xenc = F.one_hot(torch.tensor([ix]), num_classes=len(stoi)).float()\n",
    "        logits = xenc @ W\n",
    "        counts = logits.exp()\n",
    "        probs = counts / counts.sum(1, keepdim=True)\n",
    "\n",
    "        # Next character\n",
    "        ix = torch.multinomial(probs, num_samples=1, replacement=True, generator=gen).item()\n",
    "        output.append(itos[ix])\n",
    "        if ix == 0:\n",
    "            break\n",
    "\n",
    "    print(\"\".join(output))"
   ]
  },
  {
   "cell_type": "code",
   "execution_count": null,
   "metadata": {},
   "outputs": [],
   "source": []
  }
 ],
 "metadata": {
  "kernelspec": {
   "display_name": "default",
   "language": "python",
   "name": "python3"
  },
  "language_info": {
   "codemirror_mode": {
    "name": "ipython",
    "version": 3
   },
   "file_extension": ".py",
   "mimetype": "text/x-python",
   "name": "python",
   "nbconvert_exporter": "python",
   "pygments_lexer": "ipython3",
   "version": "3.11.10"
  }
 },
 "nbformat": 4,
 "nbformat_minor": 2
}
